{
 "cells": [
  {
   "cell_type": "code",
   "execution_count": 1,
   "id": "d12d3b80-3eeb-4fae-b000-d8334e6a8ca9",
   "metadata": {
    "scrolled": true
   },
   "outputs": [
    {
     "name": "stderr",
     "output_type": "stream",
     "text": [
      "WARNING:root:'PYARROW_IGNORE_TIMEZONE' environment variable was not set. It is required to set this environment variable to '1' in both driver and executor sides if you use pyarrow>=2.0.0. pandas-on-Spark will set it for you but it does not work if there is a Spark context already launched.\n"
     ]
    }
   ],
   "source": [
    "from pyspark.sql import SparkSession\n",
    "from pyspark.sql.types import StructType, StructField, IntegerType, StringType, FloatType, DateType\n",
    "from pyspark.sql import functions as F\n",
    "from pyspark.sql.functions import mean\n",
    "import datetime\n",
    "from pyspark.pandas import range\n",
    "spark = (SparkSession.builder\n",
    "        .appName(\"MySparkApp\")\n",
    "        .enableHiveSupport()\n",
    "        .getOrCreate())"
   ]
  },
  {
   "cell_type": "code",
   "execution_count": null,
   "id": "d2b3ff2b-3f85-4b3c-8063-39d5bd29d9e1",
   "metadata": {},
   "outputs": [],
   "source": []
  },
  {
   "cell_type": "code",
   "execution_count": 2,
   "id": "16e7d921-6b4e-491a-b7a4-2d55cc8714a2",
   "metadata": {},
   "outputs": [],
   "source": [
    "csvSchema = StructType([\n",
    "    StructField(\"fecha\", StringType(), True),\n",
    "    StructField(\"horaUTC\", StringType(), False),\n",
    "    StructField(\"clase_de_vuelo\", StringType(), True),\n",
    "    StructField(\"clasificacion_de_vuelo\", StringType(), True),\n",
    "    StructField(\"tipo_de_movimiento\", StringType(), True),\n",
    "    StructField(\"aeropuerto\", StringType(), True),\n",
    "    StructField(\"origen_destino\", StringType(), True),\n",
    "    StructField(\"aerolinea_nombre\", StringType(), True),\n",
    "    StructField(\"aeronave\", StringType(), True),\n",
    "    StructField(\"pasajeros\", IntegerType(), True)\n",
    "])"
   ]
  },
  {
   "cell_type": "markdown",
   "id": "aef6ec4e-722c-4948-a591-442743b3c244",
   "metadata": {},
   "source": [
    "# Vuelos"
   ]
  },
  {
   "cell_type": "code",
   "execution_count": 3,
   "id": "0a336f77-3874-44d7-aca1-d59fbcf692db",
   "metadata": {},
   "outputs": [
    {
     "name": "stderr",
     "output_type": "stream",
     "text": [
      "                                                                                "
     ]
    }
   ],
   "source": [
    "vuelos_2021 = (spark.read.option('header', 'true')\n",
    "                         .option('delimiter', ';')\n",
    "                         .csv('hdfs://172.17.0.2:9000/ingest/vuelos/2021-informe-ministerio.csv', schema=csvSchema))\n",
    "vuelos_2022 = (spark.read.option('header', 'true')\n",
    "                         .option('delimiter', ';')\n",
    "                         .csv('hdfs://172.17.0.2:9000/ingest/vuelos/202206-informe-ministerio.csv', schema=csvSchema))\n",
    "aeropuertos_detalle = (spark.read.option('header', 'true')\n",
    "                            .option('delimiter', ';')\n",
    "                            .csv('hdfs://172.17.0.2:9000/ingest/vuelos/aeropuertos_detalle.csv'))\n",
    "\n",
    "vuelos_2021 = vuelos_2021.withColumn(\"fecha_as_date\", F.to_date('fecha', 'dd/mm/yyyy'))\n",
    "vuelos_2022 = vuelos_2022.withColumn(\"fecha_as_date\", F.to_date('fecha', 'dd/mm/yyyy'))\n",
    "# Unimos las dos tablas\n",
    "vuelos = vuelos_2021.unionByName(vuelos_2022)\n",
    "\n",
    "\n",
    "vuelos = vuelos.drop('fecha')\n",
    "vuelos = vuelos.withColumnRenamed('fecha_as_date', 'fecha')\n",
    "vuelos = vuelos.withColumn(\"pasajeros\", col(\"pasajeros\").cast\n",
    "# Unimos las dos tablas\n",
    "vuelos = vuelos_2021.union(vuelos_2022)\n"
   ]
  },
  {
   "cell_type": "code",
   "execution_count": 4,
   "id": "1d533f36-91f2-41a6-8630-54b8a94650d5",
   "metadata": {
    "scrolled": true
   },
   "outputs": [
    {
     "name": "stderr",
     "output_type": "stream",
     "text": [
      "[Stage 1:>                                                          (0 + 1) / 1]"
     ]
    },
    {
     "name": "stdout",
     "output_type": "stream",
     "text": [
      "+--------------------+----------------------+--------------+----------------+---------+\n",
      "|      clase_de_vuelo|clasificacion_de_vuelo|origen_destino|        aeronave|pasajeros|\n",
      "+--------------------+----------------------+--------------+----------------+---------+\n",
      "|Vuelo Privado con...|             Domestico|           ROS|    PA-PA-28-181|        0|\n",
      "|             Regular|             Domestico|           GRA|     BO-B737-8MB|       70|\n",
      "|             Regular|             Domestico|           ECA|      BO-737-800|       70|\n",
      "|             Regular|             Domestico|           SAL|    BO-B-737-76N|       12|\n",
      "|             Regular|             Domestico|           TUC|EMB-ERJ190100IGW|       26|\n",
      "|             Regular|         Internacional|          SBGR|               0|       62|\n",
      "|Vuelo Privado con...|             Domestico|           PAR|    PA-PA-28-181|        0|\n",
      "|             Regular|         Internacional|          MMMX|               0|      198|\n",
      "|             Regular|         Internacional|          KDFW|               0|      193|\n",
      "|             Regular|         Internacional|          KMIA|               0|      255|\n",
      "+--------------------+----------------------+--------------+----------------+---------+\n",
      "only showing top 10 rows\n",
      "\n"
     ]
    },
    {
     "name": "stderr",
     "output_type": "stream",
     "text": [
      "                                                                                "
     ]
    }
   ],
   "source": [
    "vuelos.select('clase_de_vuelo', 'clasificacion_de_vuelo', 'origen_destino', 'aeronave', 'pasajeros').show(10)"
   ]
  },
  {
   "cell_type": "markdown",
   "id": "965eb14f-ef0a-45e8-b041-acfd4dbdf3e0",
   "metadata": {},
   "source": [
    "# Numero de pasajeros en viajes domésticos por aeropuerto"
   ]
  },
  {
   "cell_type": "code",
   "execution_count": 5,
   "id": "0bc6f711-9086-453a-8ff0-2989f50702d4",
   "metadata": {
    "scrolled": true
   },
   "outputs": [
    {
     "name": "stderr",
     "output_type": "stream",
     "text": [
      "[Stage 2:=============================>                             (2 + 2) / 4]"
     ]
    },
    {
     "name": "stdout",
     "output_type": "stream",
     "text": [
      "+----------+---------+\n",
      "|aeropuerto|pasajeros|\n",
      "+----------+---------+\n",
      "|       AER|  2155614|\n",
      "|       EZE|   672938|\n",
      "|       BAR|   558863|\n",
      "|       CBA|   346664|\n",
      "|       DOZ|   321230|\n",
      "|       SAL|   258869|\n",
      "|       USU|   255580|\n",
      "|       IGU|   206224|\n",
      "|       NEU|   194030|\n",
      "|       ECA|   165105|\n",
      "|       TUC|   160823|\n",
      "|       CRV|    92205|\n",
      "|       JUJ|    87822|\n",
      "|       TRE|    84256|\n",
      "|       POS|    72001|\n",
      "|       CHP|    57691|\n",
      "|       ROS|    51874|\n",
      "|       CRR|    48426|\n",
      "|       GAL|    45722|\n",
      "|       MDP|    43968|\n",
      "+----------+---------+\n",
      "only showing top 20 rows\n",
      "\n"
     ]
    },
    {
     "name": "stderr",
     "output_type": "stream",
     "text": [
      "                                                                                "
     ]
    }
   ],
   "source": [
    "vuelos_pasajeros_aeropuerto = (vuelos.filter(vuelos.clasificacion_de_vuelo == 'Domestico')\n",
    "                               .groupby('aeropuerto')\n",
    "                               .sum('pasajeros')\n",
    "                               .orderBy('sum(pasajeros)', ascending=False))\n",
    "vuelos_pasajeros_aeropuerto = vuelos_pasajeros_aeropuerto.withColumnRenamed('sum(pasajeros)', 'pasajeros')\n",
    "\n",
    "vuelos_pasajeros_aeropuerto.show()"
   ]
  },
  {
   "cell_type": "code",
   "execution_count": 55,
   "id": "5113e35f-540f-4f57-b735-814f2011c522",
   "metadata": {
    "scrolled": true
   },
   "outputs": [
    {
     "name": "stderr",
     "output_type": "stream",
     "text": [
      "2025-06-11 10:07:40,358 WARN conf.HiveConf: HiveConf of name hive.metastore.local does not exist\n",
      "2025-06-11 10:07:42,831 WARN session.SessionState: METASTORE_FILTER_HOOK will be ignored, since hive.security.authorization.manager is set to instance of HiveAuthorizerFactory.\n"
     ]
    }
   ],
   "source": [
    "vuelos_pasajeros_aeropuerto.write.mode('overwrite').saveAsTable('aeropuertos.aeropuerto_tabla')"
   ]
  },
  {
   "cell_type": "markdown",
   "id": "698ef6d1-6cc4-4ab1-8e4c-c487e97e85c4",
   "metadata": {},
   "source": [
    "# Aeropuertos detalle"
   ]
  },
  {
   "cell_type": "code",
   "execution_count": 36,
   "id": "ae21764e-06ab-4403-b46e-8c8e148e0012",
   "metadata": {
    "scrolled": true
   },
   "outputs": [
    {
     "data": {
      "text/plain": [
       "['local',\n",
       " 'oaci',\n",
       " 'iata',\n",
       " 'tipo',\n",
       " 'denominacion',\n",
       " 'coordenadas',\n",
       " 'latitud',\n",
       " 'longitud',\n",
       " 'elev',\n",
       " 'uom_elev',\n",
       " 'ref',\n",
       " 'distancia_ref',\n",
       " 'direccion_ref',\n",
       " 'condicion',\n",
       " 'control',\n",
       " 'region',\n",
       " 'fir',\n",
       " 'uso',\n",
       " 'trafico',\n",
       " 'sna',\n",
       " 'concesionado',\n",
       " 'provincia',\n",
       " 'inhab']"
      ]
     },
     "execution_count": 36,
     "metadata": {},
     "output_type": "execute_result"
    }
   ],
   "source": [
    "aeropuertos_detalle.columns"
   ]
  },
  {
   "cell_type": "code",
   "execution_count": 49,
   "id": "e764ed38-9695-465a-bd3d-ed7edad99211",
   "metadata": {},
   "outputs": [
    {
     "name": "stdout",
     "output_type": "stream",
     "text": [
      "+---------+\n",
      "|condicion|\n",
      "+---------+\n",
      "|  PRIVADO|\n",
      "|  PUBLICO|\n",
      "|  PRIVADO|\n",
      "|  PUBLICO|\n",
      "|  PRIVADO|\n",
      "|  PRIVADO|\n",
      "|  PUBLICO|\n",
      "|  PRIVADO|\n",
      "|  PUBLICO|\n",
      "|  PRIVADO|\n",
      "|  PRIVADO|\n",
      "|  PRIVADO|\n",
      "|  PRIVADO|\n",
      "|  PRIVADO|\n",
      "|  PUBLICO|\n",
      "|  PRIVADO|\n",
      "|  PRIVADO|\n",
      "|  PRIVADO|\n",
      "|  PRIVADO|\n",
      "|  PUBLICO|\n",
      "+---------+\n",
      "only showing top 20 rows\n",
      "\n"
     ]
    }
   ],
   "source": [
    "aeropuertos_detalle.select('condicion').show()"
   ]
  },
  {
   "cell_type": "code",
   "execution_count": 6,
   "id": "23e37531-21c8-42c4-8155-354b074eb782",
   "metadata": {
    "scrolled": true
   },
   "outputs": [
    {
     "name": "stdout",
     "output_type": "stream",
     "text": [
      "+------------+-----+\n",
      "|   provincia|count|\n",
      "+------------+-----+\n",
      "|BUENOS AIRES|  106|\n",
      "|     CÓRDOBA|   33|\n",
      "|    SANTA FÉ|   25|\n",
      "|   RÍO NEGRO|   15|\n",
      "|  ENTRE RÍOS|   14|\n",
      "|      CHUBUT|   11|\n",
      "|    LA PAMPA|   11|\n",
      "|  CORRIENTES|    9|\n",
      "|  SANTA CRUZ|    9|\n",
      "|     NEUQUÉN|    8|\n",
      "+------------+-----+\n",
      "only showing top 10 rows\n",
      "\n"
     ]
    }
   ],
   "source": [
    "# Cantidad de aeropuertos públicos por provincia\n",
    "aeropuertos_publicos_provincia = (aeropuertos_detalle.filter(aeropuertos_detalle.condicion == 'PUBLICO')\n",
    "                                  .groupBy('provincia')\n",
    "                                  .count()\n",
    "                                  .orderBy('count', ascending=False))\n",
    "aeropuertos_publicos_provincia.show(10)                                 "
   ]
  },
  {
   "cell_type": "code",
   "execution_count": 60,
   "id": "3eb02520-8c22-4bd3-b457-81b103d51f01",
   "metadata": {},
   "outputs": [
    {
     "name": "stderr",
     "output_type": "stream",
     "text": [
      "                                                                                "
     ]
    }
   ],
   "source": [
    "aeropuertos_publicos_provincia.write.mode('overwrite').saveAsTable('aeropuertos.aeropuerto_detalles_tabla')"
   ]
  },
  {
   "cell_type": "markdown",
   "id": "01f58ee5-2b5d-4522-bb40-bb0d122dc777",
   "metadata": {},
   "source": []
  },
  {
   "cell_type": "code",
   "execution_count": null,
   "id": "dbb6bb78-6ac8-47ab-8d7d-97ef17e6a9ec",
   "metadata": {},
   "outputs": [],
   "source": []
  }
 ],
 "metadata": {
  "kernelspec": {
   "display_name": "Python 3 (ipykernel)",
   "language": "python",
   "name": "python3"
  },
  "language_info": {
   "codemirror_mode": {
    "name": "ipython",
    "version": 3
   },
   "file_extension": ".py",
   "mimetype": "text/x-python",
   "name": "python",
   "nbconvert_exporter": "python",
   "pygments_lexer": "ipython3",
   "version": "3.8.10"
  }
 },
 "nbformat": 4,
 "nbformat_minor": 5
}
