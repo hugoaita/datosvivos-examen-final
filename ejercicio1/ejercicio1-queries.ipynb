{
 "cells": [
  {
   "cell_type": "code",
   "execution_count": 1,
   "id": "9b8f689f-adab-460c-8f85-aab197a38e54",
   "metadata": {},
   "outputs": [],
   "source": [
    "from pyspark.sql import SparkSession\n",
    "from pyspark.sql.types import StructType, StructField, IntegerType, StringType, FloatType, DateType\n",
    "from pyspark.sql import functions as F\n",
    "from pyspark.sql.functions import mean\n",
    "from pyspark.sql.functions import to_timestamp\n",
    "import datetime\n",
    "\n",
    "spark = (SparkSession.builder\n",
    "        .appName(\"MySparkApp\")\n",
    "        .enableHiveSupport()\n",
    "        .getOrCreate())"
   ]
  },
  {
   "cell_type": "code",
   "execution_count": 13,
   "id": "8287b2c7-6bc1-4e3a-b086-48b7d8ddcd4b",
   "metadata": {},
   "outputs": [],
   "source": [
    "csvVuelosSchema = StructType([\n",
    "    StructField(\"fecha\", StringType(), True),\n",
    "    StructField(\"horaUTC\", StringType(), False),\n",
    "    StructField(\"clase_de_vuelo\", StringType(), True),\n",
    "    StructField(\"clasificacion_de_vuelo\", StringType(), True),\n",
    "    StructField(\"tipo_de_movimiento\", StringType(), True),\n",
    "    StructField(\"aeropuerto\", StringType(), True),\n",
    "    StructField(\"origen_destino\", StringType(), True),\n",
    "    StructField(\"aerolinea_nombre\", StringType(), True),\n",
    "    StructField(\"aeronave\", StringType(), True),\n",
    "    StructField(\"pasajeros\", IntegerType(), True)])\n",
    "\n",
    "csvAeropuertosSchema = StructType([\n",
    "    StructField(\"local\", StringType(), True),\n",
    "    StructField(\"oac\", StringType(), True),\n",
    "    StructField(\"iata\", StringType(), True),\n",
    "    StructField(\"tipo\", StringType(), True),\n",
    "    StructField(\"denominacion\", StringType(), True),\n",
    "    StructField(\"coordenadas\", StringType(), True),\n",
    "    StructField(\"latitud\", StringType(), True),\n",
    "    StructField(\"longitud\", StringType(), True),\n",
    "    StructField(\"elev\", FloatType(), True),\n",
    "    StructField(\"uom_elev\", StringType(), True),\n",
    "    StructField(\"ref\", StringType(), True),\n",
    "    StructField(\"distancia_ref\", FloatType(), True),\n",
    "    StructField(\"direccion_ref\", StringType(), True),\n",
    "    StructField(\"condicion\", StringType(), True),\n",
    "    StructField(\"control\", StringType(), True),\n",
    "    StructField(\"region\", StringType(), True),\n",
    "    StructField(\"uso\", StringType(), True),\n",
    "    StructField(\"trafico\", StringType(), True),\n",
    "    StructField(\"sna\", StringType(), True),\n",
    "    StructField(\"concesionado\", StringType(), True),\n",
    "    StructField(\"provincia\", StringType(), True)])"
   ]
  },
  {
   "cell_type": "markdown",
   "id": "bbd6dd98-f0d8-44fd-8fbb-75dee414adff",
   "metadata": {},
   "source": [
    "# Load the datasets"
   ]
  },
  {
   "cell_type": "code",
   "execution_count": 12,
   "id": "2daa73ab-62c1-48d0-8e5d-2bb97a7e3b24",
   "metadata": {
    "scrolled": true
   },
   "outputs": [],
   "source": [
    "vuelos_2021 = (spark.read.option('header', 'true')\n",
    "                         .option('delimiter', ';')\n",
    "                         .csv('hdfs://172.17.0.2:9000/ingest/vuelos/2021-informe-ministerio.csv'))\n",
    "vuelos_2022 = (spark.read.option('header', 'true')\n",
    "                         .option('delimiter', ';')\n",
    "                         .csv('hdfs://172.17.0.2:9000/ingest/vuelos/202206-informe-ministerio.csv'))\n",
    "aeropuertos_detalle = (spark.read.option('header', 'true')\n",
    "                            .option('delimiter', ';')\n",
    "                            .csv('hdfs://172.17.0.2:9000/ingest/vuelos/aeropuertos_detalle.csv'))\n",
    "\n",
    "vuelos_2021 = vuelos_2021.withColumn('fecha', F.to_date(F.col('fecha'), 'dd/MM/yyyy'))\n",
    "vuelos_2022 = vuelos_2022.withColumn('fecha', F.to_date(F.col('fecha'), 'dd/MM/yyyy'))\n",
    "\n",
    "\n",
    "# Union the two tables\n",
    "vuelos = vuelos_2022.unionByName(vuelos_2021)\n",
    "\n"
   ]
  },
  {
   "cell_type": "markdown",
   "id": "7c0b754e-226d-491d-9144-ba98490d0556",
   "metadata": {},
   "source": [
    "## Rename the columns"
   ]
  },
  {
   "cell_type": "code",
   "execution_count": 18,
   "id": "80ecf734-1c53-4dd4-adc6-f292dfb80ccf",
   "metadata": {},
   "outputs": [],
   "source": [
    "vuelos = (vuelos.withColumnRenamed('Hora UTC', 'horaUTC')\n",
    "                .withColumnRenamed('Clase de Vuelo (todos los vuelos)', 'clase_de_vuelo')\n",
    "                .withColumnRenamed('Clasificación Vuelo', 'clasificacion_de_vuelo')\n",
    "                .withColumnRenamed('Tipo de Movimiento', 'tipo_de_movimiento')\n",
    "                .withColumnRenamed('Aeropuerto', 'aeropuerto')\n",
    "                .withColumnRenamed('Origen / Destino', 'origen_destino')\n",
    "                .withColumnRenamed('Aerolinea Nombre', 'aerolinea_nombre')\n",
    "                .withColumnRenamed('Aeronave', 'aeronave')\n",
    "                .withColumnRenamed('Calidad dato', 'calidad_dato'))"
   ]
  },
  {
   "cell_type": "markdown",
   "id": "fedf732c-2772-402d-ba26-dd203ada574a",
   "metadata": {},
   "source": [
    "## Cast some columns to the correct types"
   ]
  },
  {
   "cell_type": "code",
   "execution_count": 19,
   "id": "feb8a576-c0b4-4bbb-b908-c846ec387365",
   "metadata": {},
   "outputs": [],
   "source": [
    "vuelos = (vuelos.withColumn(\"fecha\", F.to_date(F.col(\"fecha\"), \"dd/MM/yyyy\"))\n",
    "                .withColumn('pasajeros', F.col(\"pasajeros\").cast(IntegerType())))\n",
    "\n",
    "aeropuertos_detalle = (aeropuertos_detalle.withColumn('elev', F.col('elev').cast(FloatType()))\n",
    "                                          .withColumn('distancia_ref', F.col('distancia_ref')\n",
    "                                                      .cast(FloatType())))\n"
   ]
  },
  {
   "cell_type": "code",
   "execution_count": 6,
   "id": "39741c0f-ae9c-4b3d-a5d1-d6e39a68f483",
   "metadata": {},
   "outputs": [
    {
     "name": "stdout",
     "output_type": "stream",
     "text": [
      "root\n",
      " |-- local: string (nullable = true)\n",
      " |-- oaci: string (nullable = true)\n",
      " |-- iata: string (nullable = true)\n",
      " |-- tipo: string (nullable = true)\n",
      " |-- denominacion: string (nullable = true)\n",
      " |-- coordenadas: string (nullable = true)\n",
      " |-- latitud: string (nullable = true)\n",
      " |-- longitud: string (nullable = true)\n",
      " |-- elev: float (nullable = true)\n",
      " |-- uom_elev: string (nullable = true)\n",
      " |-- ref: string (nullable = true)\n",
      " |-- distancia_ref: float (nullable = true)\n",
      " |-- direccion_ref: string (nullable = true)\n",
      " |-- condicion: string (nullable = true)\n",
      " |-- control: string (nullable = true)\n",
      " |-- region: string (nullable = true)\n",
      " |-- fir: string (nullable = true)\n",
      " |-- uso: string (nullable = true)\n",
      " |-- trafico: string (nullable = true)\n",
      " |-- sna: string (nullable = true)\n",
      " |-- concesionado: string (nullable = true)\n",
      " |-- provincia: string (nullable = true)\n",
      " |-- inhab: string (nullable = true)\n",
      "\n"
     ]
    }
   ],
   "source": [
    "aeropuertos_detalle.printSchema()"
   ]
  },
  {
   "cell_type": "markdown",
   "id": "de75fb07-ec2e-44f8-876a-3fc79be17ac6",
   "metadata": {},
   "source": [
    "# Problema 4\n",
    "- Elminamos las columnas **inhab** y **fir**\n",
    "- Eliminamos la columna **fir**\n",
    "- Eliminamos la columna **calidad_dato**\n",
    "- Filtramos los vuelos nacionales\n",
    "- En el campo pasajeros: Null -> 0\n",
    "- En el campo distancia: Null -> 0"
   ]
  },
  {
   "cell_type": "code",
   "execution_count": 7,
   "id": "29e3bb43-2ae2-4568-9595-d5809afdc058",
   "metadata": {},
   "outputs": [],
   "source": [
    "aeropuertos_detalle = aeropuertos_detalle.drop('inhab', 'fir')\n",
    "aeropuertos_detalle = aeropuertos_detalle.fillna(0, subset=['distancia_ref'])\n",
    "vuelos = vuelos.drop('calidad_dato')\n",
    "vuelos = vuelos.filter(vuelos.clasificacion_de_vuelo == 'Domestico')\n",
    "vuelos = vuelos.drop('clasificacion_de_vuelo')\n",
    "vuelos = vuelos.fillna(0, subset=['pasajeros'])"
   ]
  },
  {
   "cell_type": "markdown",
   "id": "3de4506f-c892-4d90-81c7-75dde98c0402",
   "metadata": {},
   "source": [
    "# Problema 5"
   ]
  },
  {
   "cell_type": "markdown",
   "id": "3e536ea6-1d13-47cd-99d3-6ddf7469ec10",
   "metadata": {},
   "source": [
    "## Check that the vuelos table has the correct schema"
   ]
  },
  {
   "cell_type": "code",
   "execution_count": 20,
   "id": "fd81c4bd-1c2a-44a6-88b8-bc080b06f637",
   "metadata": {
    "scrolled": true
   },
   "outputs": [
    {
     "name": "stdout",
     "output_type": "stream",
     "text": [
      "Schema de la tabla de vuelos\n",
      "root\n",
      " |-- fecha: date (nullable = true)\n",
      " |-- horaUTC: string (nullable = true)\n",
      " |-- clase_de_vuelo: string (nullable = true)\n",
      " |-- clasificacion_de_vuelo: string (nullable = true)\n",
      " |-- tipo_de_movimiento: string (nullable = true)\n",
      " |-- aeropuerto: string (nullable = true)\n",
      " |-- origen_destino: string (nullable = true)\n",
      " |-- aerolinea_nombre: string (nullable = true)\n",
      " |-- aeronave: string (nullable = true)\n",
      " |-- pasajeros: integer (nullable = true)\n",
      " |-- calidad_dato: string (nullable = true)\n",
      "\n"
     ]
    }
   ],
   "source": [
    "print (\"Schema de la tabla de vuelos\")\n",
    "vuelos.printSchema()"
   ]
  },
  {
   "cell_type": "markdown",
   "id": "592d41a5-b4be-4b89-88b9-37745c76f4e5",
   "metadata": {},
   "source": [
    "## Check that the aeropuerto_detalle has the correct schema"
   ]
  },
  {
   "cell_type": "code",
   "execution_count": 8,
   "id": "9e0a0b54-44df-487c-a4f7-49ebe4915e66",
   "metadata": {
    "scrolled": true
   },
   "outputs": [
    {
     "name": "stdout",
     "output_type": "stream",
     "text": [
      "Schema de la tabla aeropuertos_detalles\n",
      "root\n",
      " |-- local: string (nullable = true)\n",
      " |-- oaci: string (nullable = true)\n",
      " |-- iata: string (nullable = true)\n",
      " |-- tipo: string (nullable = true)\n",
      " |-- denominacion: string (nullable = true)\n",
      " |-- coordenadas: string (nullable = true)\n",
      " |-- latitud: string (nullable = true)\n",
      " |-- longitud: string (nullable = true)\n",
      " |-- elev: float (nullable = true)\n",
      " |-- uom_elev: string (nullable = true)\n",
      " |-- ref: string (nullable = true)\n",
      " |-- distancia_ref: float (nullable = false)\n",
      " |-- direccion_ref: string (nullable = true)\n",
      " |-- condicion: string (nullable = true)\n",
      " |-- control: string (nullable = true)\n",
      " |-- region: string (nullable = true)\n",
      " |-- uso: string (nullable = true)\n",
      " |-- trafico: string (nullable = true)\n",
      " |-- sna: string (nullable = true)\n",
      " |-- concesionado: string (nullable = true)\n",
      " |-- provincia: string (nullable = true)\n",
      "\n"
     ]
    }
   ],
   "source": [
    "print (\"Schema de la tabla aeropuertos_detalles\")\n",
    "aeropuertos_detalle.printSchema()"
   ]
  },
  {
   "cell_type": "markdown",
   "id": "f5b96e7f-be35-4009-a032-59f7536e36f9",
   "metadata": {},
   "source": [
    "## Query 6\n",
    "Determinar la cantidad de vuelos entre las fechas 01/12/2021 y 31/01/2022. Mostrar\n",
    "consulta y Resultado de la query"
   ]
  },
  {
   "cell_type": "code",
   "execution_count": 21,
   "id": "4de822b7-c23e-4b32-8293-77d61425d42d",
   "metadata": {},
   "outputs": [
    {
     "name": "stderr",
     "output_type": "stream",
     "text": [
      "[Stage 13:=============================>                            (2 + 2) / 4]"
     ]
    },
    {
     "name": "stdout",
     "output_type": "stream",
     "text": [
      "Número de vuelos:  358210\n"
     ]
    },
    {
     "name": "stderr",
     "output_type": "stream",
     "text": [
      "                                                                                "
     ]
    }
   ],
   "source": [
    "numero_vuelos = vuelos.filter((vuelos.fecha >= '2021-01-01') & (vuelos.fecha <= '2022-01-31')).count()\n",
    "print (\"Número de vuelos: \", numero_vuelos)"
   ]
  },
  {
   "cell_type": "markdown",
   "id": "440e4671-2b7a-4eb8-b50d-ee27ce5c803b",
   "metadata": {},
   "source": [
    "## Query 7\n",
    "Cantidad de pasajeros que viajaron en Aerolíneas Argentinas entre el 01/01/2021 y\n",
    "30/06/2022. Mostrar consulta y Resultado de la query."
   ]
  },
  {
   "cell_type": "code",
   "execution_count": 22,
   "id": "2e00bc15-a9fb-4801-9490-80cc5958bfa1",
   "metadata": {
    "scrolled": true
   },
   "outputs": [
    {
     "name": "stderr",
     "output_type": "stream",
     "text": [
      "[Stage 16:=============================>                            (2 + 2) / 4]"
     ]
    },
    {
     "name": "stdout",
     "output_type": "stream",
     "text": [
      "Número de pasajeros:  92614\n"
     ]
    },
    {
     "name": "stderr",
     "output_type": "stream",
     "text": [
      "                                                                                "
     ]
    }
   ],
   "source": [
    "pasajeros = (vuelos.filter((vuelos.fecha >= '2021-01-01') & \n",
    "                           (vuelos.fecha <= '2022-01-30') &\n",
    "                           (vuelos.aerolinea_nombre == 'AEROLINEAS ARGENTINAS SA'))).count()\n",
    "             \n",
    "\n",
    "print (\"Número de pasajeros: \", pasajeros)"
   ]
  },
  {
   "cell_type": "markdown",
   "id": "1119f2ee-de46-4d9c-9d6f-48b6081d42e6",
   "metadata": {},
   "source": [
    "## Query 8"
   ]
  },
  {
   "cell_type": "code",
   "execution_count": 81,
   "id": "c2ec8050-6791-4e0a-9919-5df3aeb8b907",
   "metadata": {
    "scrolled": true
   },
   "outputs": [
    {
     "name": "stdout",
     "output_type": "stream",
     "text": [
      "+----------+-------+----------+--------------------+--------------+--------------------+---------+\n",
      "|     fecha|horaUTC|aeropuerto|       ciudad_salida|origen_destino|      ciudad_llegada|pasajeros|\n",
      "+----------+-------+----------+--------------------+--------------+--------------------+---------+\n",
      "|2022-01-29|  14:11|       BAR|San Carlos de Bar...|           EZE|     Capital Federal|      141|\n",
      "|2022-02-19|  22:19|       BAR|San Carlos de Bar...|           EZE|     Capital Federal|      141|\n",
      "|2022-02-15|  14:06|       BAR|San Carlos de Bar...|           EZE|     Capital Federal|      141|\n",
      "|2022-03-01|  13:52|       BAR|San Carlos de Bar...|           EZE|     Capital Federal|      140|\n",
      "|2022-02-16|  14:56|       BAR|San Carlos de Bar...|           EZE|     Capital Federal|      140|\n",
      "|2022-01-31|  14:24|       BAR|San Carlos de Bar...|           EZE|     Capital Federal|      139|\n",
      "|2022-03-02|  14:57|       BAR|San Carlos de Bar...|           EZE|     Capital Federal|      139|\n",
      "|2022-02-26|  14:12|       BAR|San Carlos de Bar...|           EZE|     Capital Federal|      139|\n",
      "|2022-01-15|  14:05|       BAR|San Carlos de Bar...|           EZE|     Capital Federal|      139|\n",
      "|2022-02-26|  21:26|       BAR|San Carlos de Bar...|           EZE|     Capital Federal|      138|\n",
      "|2022-01-29|  22:14|       BAR|San Carlos de Bar...|           EZE|     Capital Federal|      138|\n",
      "|2022-02-04|  09:06|       EZE|     Capital Federal|           ECA|         El Calafate|      138|\n",
      "|2022-02-18|  18:52|       EZE|     Capital Federal|           USU|             Ushuaia|      138|\n",
      "|2022-02-13|  14:14|       BAR|San Carlos de Bar...|           EZE|     Capital Federal|      138|\n",
      "|2022-02-28|  13:59|       BAR|San Carlos de Bar...|           EZE|     Capital Federal|      138|\n",
      "|2022-03-03|  23:28|       USU|             Ushuaia|           EZE|     Capital Federal|      138|\n",
      "|2022-02-18|  13:49|       BAR|San Carlos de Bar...|           EZE|     Capital Federal|      138|\n",
      "|2022-01-23|  22:51|       ECA|         El Calafate|           EZE|     Capital Federal|      137|\n",
      "|2022-01-17|  12:00|       EZE|     Capital Federal|           BAR|San Carlos de Bar...|      137|\n",
      "|2022-01-15|  10:16|       EZE|     Capital Federal|           BAR|San Carlos de Bar...|      137|\n",
      "+----------+-------+----------+--------------------+--------------+--------------------+---------+\n",
      "only showing top 20 rows\n",
      "\n"
     ]
    },
    {
     "name": "stderr",
     "output_type": "stream",
     "text": [
      "                                                                                "
     ]
    }
   ],
   "source": [
    "aeropuerto_salida = (aeropuertos_detalle.select('local', 'ref')\n",
    "                                        .withColumnRenamed('local', 'aeropuerto')\n",
    "                                        .withColumnRenamed('ref', 'ciudad_salida'))\n",
    "aeropuerto_llegada = (aeropuertos_detalle.select('local', 'ref')\n",
    "                                        .withColumnRenamed('local', 'origen_destino')\n",
    "                                        .withColumnRenamed('ref', 'ciudad_llegada'))\n",
    "\n",
    "\n",
    "vuelos_salida = vuelos.join(aeropuerto_salida, on='aeropuerto')\n",
    "vuelos_salida = vuelos_salida.filter(vuelos_salida.tipo_de_movimiento == 'Despegue')\n",
    "vuelos_salida = vuelos_salida.join(aeropuerto_llegada, on='origen_destino')\n",
    "\n",
    "origen_destino = ((vuelos_salida.filter((vuelos_salida.fecha >= '2022-01-01') &\n",
    "                                        (vuelos_salida.fecha <= '2022-06-30'))\n",
    "                                .select('fecha', \n",
    "                                        'horaUTC', \n",
    "                                        'aeropuerto', \n",
    "                                        'ciudad_salida', \n",
    "                                        'origen_destino', \n",
    "                                        'ciudad_llegada', \n",
    "                                        'pasajeros'))\n",
    "                                 .orderBy('pasajeros', ascending=False))   \n",
    "                          \n",
    "origen_destino.show()"
   ]
  },
  {
   "cell_type": "markdown",
   "id": "fb542c65-c146-4252-889c-3a1b67b98ded",
   "metadata": {},
   "source": [
    "## Query 9"
   ]
  },
  {
   "cell_type": "code",
   "execution_count": 26,
   "id": "75c7e0c1-a2ec-4529-9faf-c4ff79c689a6",
   "metadata": {},
   "outputs": [
    {
     "name": "stderr",
     "output_type": "stream",
     "text": [
      "[Stage 23:===========================================>              (3 + 1) / 4]"
     ]
    },
    {
     "name": "stdout",
     "output_type": "stream",
     "text": [
      "+----------------------------------------+--------------+\n",
      "|aerolinea_nombre                        |sum(pasajeros)|\n",
      "+----------------------------------------+--------------+\n",
      "|AEROLINEAS ARGENTINAS SA                |8890118       |\n",
      "|JETSMART AIRLINES S.A.                  |1570127       |\n",
      "|FB LÍNEAS AÉREAS - FLYBONDI             |1553112       |\n",
      "|AMERICAN AIRLINES INC.                  |526136        |\n",
      "|IBERIA - LINEAS AÉREAS DE ESPAÑA        |328747        |\n",
      "|COMPAÑIA PANAMEÑA DE AVIACION           |310636        |\n",
      "|LAN AIRLINES S.A.                       |220076        |\n",
      "|TAM - TRANSPORTES AEREOS MERIDIONAIS S/A|187647        |\n",
      "|SKY AIRLINE S.A.                        |180326        |\n",
      "|AVIANCA AEROVIAS NACIONALES COLOMBIA    |172783        |\n",
      "+----------------------------------------+--------------+\n",
      "only showing top 10 rows\n",
      "\n"
     ]
    },
    {
     "name": "stderr",
     "output_type": "stream",
     "text": [
      "                                                                                "
     ]
    }
   ],
   "source": [
    "(vuelos.filter((vuelos.fecha >= '2021-01-01') & \n",
    "               (vuelos.fecha <= '2022-06-30') & \n",
    "               (vuelos.aerolinea_nombre != ''))\n",
    "               .groupBy('aerolinea_nombre')\n",
    "               .sum('pasajeros')\n",
    "               .orderBy('sum(pasajeros)', ascending=False)\n",
    "               .show(10, truncate=False))"
   ]
  },
  {
   "cell_type": "markdown",
   "id": "6fdaca47-8783-4b92-926d-4988e819e834",
   "metadata": {},
   "source": [
    "## Query 10"
   ]
  },
  {
   "cell_type": "code",
   "execution_count": 78,
   "id": "11fdca5a-96e5-4799-b136-34585a507d20",
   "metadata": {
    "collapsed": true,
    "jupyter": {
     "outputs_hidden": true
    },
    "scrolled": true
   },
   "outputs": [
    {
     "name": "stderr",
     "output_type": "stream",
     "text": [
      "[Stage 118:============================>                            (2 + 2) / 4]"
     ]
    },
    {
     "name": "stdout",
     "output_type": "stream",
     "text": [
      "+----------------+-----+\n",
      "|        aeronave|count|\n",
      "+----------------+-----+\n",
      "|EMB-ERJ190100IGW|13408|\n",
      "|        CE-150-L| 8123|\n",
      "|          CE-152| 7987|\n",
      "|        CE-150-M| 6082|\n",
      "|    AIB-A320-232| 5422|\n",
      "|      BO-737-800| 5047|\n",
      "|           LJ-60| 3540|\n",
      "|     BO-B737-800| 3051|\n",
      "|        CE-150-J| 3012|\n",
      "|        CE-150-G| 2873|\n",
      "+----------------+-----+\n",
      "only showing top 10 rows\n",
      "\n"
     ]
    },
    {
     "name": "stderr",
     "output_type": "stream",
     "text": [
      "                                                                                "
     ]
    }
   ],
   "source": [
    "aeropuerto_salida = (aeropuertos_detalle.filter((aeropuertos_detalle.provincia == 'BUENOS AIRES') |\n",
    "                                                (aeropuertos_detalle.provincia == 'CIUDAD AUTÓNOMA DE BUENOS AIRES'))\n",
    "                                        .select('local', 'provincia')\n",
    "                                        .withColumnRenamed('local', 'aeropuerto'))\n",
    "aeronaves = vuelos.join(aeropuerto_salida, on='aeropuerto')\n",
    "aeronaves = (aeronaves.filter((aeronaves.fecha >= '2021-01-01') &\n",
    "                             (aeronaves.fecha <= '2022-06-30') &\n",
    "                             (aeronaves.tipo_de_movimiento == 'Despegue') &\n",
    "                             (aeronaves.aeronave != '0'))\n",
    "                       .groupBy('aeronave')\n",
    "                       .count()\n",
    "                       .orderBy('count', ascending=False))\n",
    "aeronaves.show(10)"
   ]
  },
  {
   "cell_type": "markdown",
   "id": "99578c6e-af47-4257-be7c-ee76ee1c6ebf",
   "metadata": {},
   "source": [
    "# Pregunta 11\n",
    "Agregaría en este dataset:\n",
    "- Si el aeropuerto se encuentra en un lugar turístico, y en tal caso cuáles son las épocas de temporada alta y temporada baja.\n",
    "- El tiempo de llegada de la aeronave. Esto permitiría estimar el tiempo promedio del vuelo. "
   ]
  },
  {
   "cell_type": "code",
   "execution_count": 68,
   "id": "234e202d-72a6-4e38-8f54-1378c01ac31b",
   "metadata": {
    "collapsed": true,
    "jupyter": {
     "outputs_hidden": true
    },
    "scrolled": true
   },
   "outputs": [
    {
     "name": "stdout",
     "output_type": "stream",
     "text": [
      "+----+---+---------+\n",
      "| Año|Mes|pasajeros|\n",
      "+----+---+---------+\n",
      "|2022|  1|    36256|\n",
      "|2021| 12|    34145|\n",
      "|2022|  2|    31844|\n",
      "|2021| 11|    31705|\n",
      "|2022|  3|    28200|\n",
      "|2021| 10|    27019|\n",
      "|2021|  8|    24653|\n",
      "|2021|  9|    24512|\n",
      "|2021|  1|    22510|\n",
      "|2021|  7|    20849|\n",
      "|2021|  2|    19292|\n",
      "|2021|  3|    16215|\n",
      "|2022|  6|    15648|\n",
      "|2022|  4|    11915|\n",
      "|2022|  5|    11757|\n",
      "|2021|  4|    11388|\n",
      "|2021|  6|     6247|\n",
      "|2021|  5|     4296|\n",
      "+----+---+---------+\n",
      "\n"
     ]
    },
    {
     "name": "stderr",
     "output_type": "stream",
     "text": [
      "                                                                                "
     ]
    }
   ],
   "source": [
    "vuelos_salida = vuelos.join(aeropuerto_salida, on='aeropuerto')\n",
    "vuelos_salida = vuelos_salida.filter(vuelos_salida.tipo_de_movimiento == 'Despegue')\n",
    "vuelos_salida = vuelos_salida.join(aeropuerto_llegada, on='origen_destino')\n",
    "\n",
    "origen_destino = ((vuelos_salida.filter((vuelos_salida.fecha >= '2021-01-01') &\n",
    "                                        (vuelos_salida.fecha <= '2022-06-30'))\n",
    "                                .select('fecha', \n",
    "                                        'horaUTC', \n",
    "                                        'aeropuerto', \n",
    "                                        'ciudad_salida', \n",
    "                                        'origen_destino', \n",
    "                                        'ciudad_llegada', \n",
    "                                        'pasajeros'))\n",
    "                                 .orderBy('pasajeros', ascending=False)) \n",
    "\n",
    "origen_destino = (origen_destino.withColumn('Mes', F.date_format('fecha', 'MMMM'))\n",
    "                                .withColumn('Año', F.date_format('fecha')))\n",
    "origen_destino = (origen_destino.filter(((origen_destino.aeropuerto == 'EZE') &\n",
    "                                        (origen_destino.origen_destino == 'BAR')) |\n",
    "                                        ((origen_destino.aeropuerto == 'AER') &\n",
    "                                        (origen_destino.origen_destino == 'BAR'))))\n",
    "#origen_destino = origen_destino.groupBy('Año', 'Mes').sum('pasajeros')\n",
    "#origen_destino = (origen_destino.withColumnRenamed('year(fecha)', 'Año')\n",
    "#                                .withColumnRenamed('month(fecha)', 'Mes')\n",
    " #                               .withColumnRenamed('sum(pasajeros)', 'pasajeros'))\n",
    "origen_destino = (origen_destino.select('Año','Mes', 'pasajeros')\n",
    "                                .groupBy('Año', 'Mes')\n",
    "                                .sum('pasajeros'))\n",
    "origen_destino = origen_destino.withColumnRenamed('sum(pasajeros)', 'pasajeros')                                \n",
    "origen_destino.orderBy('pasajeros', ascending=False).show()"
   ]
  },
  {
   "cell_type": "markdown",
   "id": "2f8bc52c-4b7e-479a-893f-620c25ad89a0",
   "metadata": {},
   "source": [
    "Agrupando los resultados de la Query 8 se pueden ver los aeropuertos con más flujo de pasajeros:"
   ]
  },
  {
   "cell_type": "code",
   "execution_count": 92,
   "id": "855d6cb0-cf8b-40c3-96b3-b6cd2ff7fdb8",
   "metadata": {
    "scrolled": true
   },
   "outputs": [
    {
     "name": "stderr",
     "output_type": "stream",
     "text": [
      "[Stage 172:============================>                            (2 + 2) / 4]"
     ]
    },
    {
     "name": "stdout",
     "output_type": "stream",
     "text": [
      "+----------+--------------+-----------------------+-----------------------+--------------+\n",
      "|aeropuerto|origen_destino|ciudad_salida          |ciudad_llegada         |sum(pasajeros)|\n",
      "+----------+--------------+-----------------------+-----------------------+--------------+\n",
      "|AER       |BAR           |Ciudad de Buenos Aires |San Carlos de Bariloche|106681        |\n",
      "|BAR       |AER           |San Carlos de Bariloche|Ciudad de Buenos Aires |96315         |\n",
      "|DOZ       |AER           |Mendoza                |Ciudad de Buenos Aires |84033         |\n",
      "|AER       |DOZ           |Ciudad de Buenos Aires |Mendoza                |82724         |\n",
      "|AER       |CBA           |Ciudad de Buenos Aires |Córdoba                |78724         |\n",
      "|CBA       |AER           |Córdoba                |Ciudad de Buenos Aires |77857         |\n",
      "|AER       |IGU           |Ciudad de Buenos Aires |Cataratas del Iguazú   |67942         |\n",
      "|SAL       |AER           |Salta                  |Ciudad de Buenos Aires |66243         |\n",
      "|AER       |SAL           |Ciudad de Buenos Aires |Salta                  |66185         |\n",
      "|IGU       |AER           |Cataratas del Iguazú   |Ciudad de Buenos Aires |60922         |\n",
      "|AER       |TUC           |Ciudad de Buenos Aires |San Miguel de Tucumán  |48731         |\n",
      "|NEU       |AER           |Neuquén                |Ciudad de Buenos Aires |47267         |\n",
      "|TUC       |AER           |San Miguel de Tucumán  |Ciudad de Buenos Aires |45511         |\n",
      "|AER       |USU           |Ciudad de Buenos Aires |Ushuaia                |44391         |\n",
      "|BAR       |EZE           |San Carlos de Bariloche|Capital Federal        |42209         |\n",
      "|USU       |AER           |Ushuaia                |Ciudad de Buenos Aires |40273         |\n",
      "|AER       |ECA           |Ciudad de Buenos Aires |El Calafate            |39452         |\n",
      "|AER       |NEU           |Ciudad de Buenos Aires |Neuquén                |39111         |\n",
      "|AER       |JUJ           |Ciudad de Buenos Aires |San Salvador de Jujuy  |34965         |\n",
      "|ECA       |AER           |El Calafate            |Ciudad de Buenos Aires |34823         |\n",
      "+----------+--------------+-----------------------+-----------------------+--------------+\n",
      "only showing top 20 rows\n",
      "\n"
     ]
    },
    {
     "name": "stderr",
     "output_type": "stream",
     "text": [
      "                                                                                "
     ]
    }
   ],
   "source": [
    "(origen_destino.groupBy('aeropuerto', \n",
    "                        'origen_destino', \n",
    "                        'ciudad_salida', \n",
    "                        'ciudad_llegada')\n",
    "               .sum('pasajeros')\n",
    "               .orderBy('sum(pasajeros)', ascending=False).show(truncate=False))\n",
    "                      "
   ]
  },
  {
   "cell_type": "markdown",
   "id": "1ef4f41d-d3ae-4a22-9823-a74b7a22f71a",
   "metadata": {},
   "source": [
    "También podemos contar el número de vuelos"
   ]
  },
  {
   "cell_type": "code",
   "execution_count": 91,
   "id": "dbb2e99d-e7ec-4cf0-b73d-aacc90255e7d",
   "metadata": {
    "scrolled": true
   },
   "outputs": [
    {
     "name": "stderr",
     "output_type": "stream",
     "text": [
      "[Stage 168:============================>                            (2 + 2) / 4]"
     ]
    },
    {
     "name": "stdout",
     "output_type": "stream",
     "text": [
      "+----------+--------------+-----------------------+-----------------------+-----+\n",
      "|aeropuerto|origen_destino|ciudad_salida          |ciudad_llegada         |count|\n",
      "+----------+--------------+-----------------------+-----------------------+-----+\n",
      "|AER       |BAR           |Ciudad de Buenos Aires |San Carlos de Bariloche|1372 |\n",
      "|BAR       |AER           |San Carlos de Bariloche|Ciudad de Buenos Aires |1191 |\n",
      "|AER       |DOZ           |Ciudad de Buenos Aires |Mendoza                |1165 |\n",
      "|DOZ       |AER           |Mendoza                |Ciudad de Buenos Aires |1164 |\n",
      "|AER       |CBA           |Ciudad de Buenos Aires |Córdoba                |1096 |\n",
      "|CBA       |AER           |Córdoba                |Ciudad de Buenos Aires |1071 |\n",
      "|AER       |IGU           |Ciudad de Buenos Aires |Cataratas del Iguazú   |895  |\n",
      "|AER       |SAL           |Ciudad de Buenos Aires |Salta                  |882  |\n",
      "|SAL       |AER           |Salta                  |Ciudad de Buenos Aires |874  |\n",
      "|IGU       |AER           |Cataratas del Iguazú   |Ciudad de Buenos Aires |812  |\n",
      "|AER       |TUC           |Ciudad de Buenos Aires |San Miguel de Tucumán  |705  |\n",
      "|TUC       |AER           |San Miguel de Tucumán  |Ciudad de Buenos Aires |656  |\n",
      "|NEU       |AER           |Neuquén                |Ciudad de Buenos Aires |644  |\n",
      "|AER       |USU           |Ciudad de Buenos Aires |Ushuaia                |568  |\n",
      "|AER       |NEU           |Ciudad de Buenos Aires |Neuquén                |548  |\n",
      "|AER       |JUJ           |Ciudad de Buenos Aires |San Salvador de Jujuy  |523  |\n",
      "|USU       |AER           |Ushuaia                |Ciudad de Buenos Aires |523  |\n",
      "|AER       |ECA           |Ciudad de Buenos Aires |El Calafate            |509  |\n",
      "|BAR       |EZE           |San Carlos de Bariloche|Capital Federal        |509  |\n",
      "|AER       |CRV           |Ciudad de Buenos Aires |Comodoro Rivadavia     |473  |\n",
      "|ECA       |AER           |El Calafate            |Ciudad de Buenos Aires |460  |\n",
      "|CRV       |AER           |Comodoro Rivadavia     |Ciudad de Buenos Aires |455  |\n",
      "|JUJ       |AER           |San Salvador de Jujuy  |Ciudad de Buenos Aires |406  |\n",
      "|AER       |MDP           |Ciudad de Buenos Aires |Mar del Plata          |399  |\n",
      "|MDP       |AER           |Mar del Plata          |Ciudad de Buenos Aires |392  |\n",
      "|POS       |AER           |Posadas                |Ciudad de Buenos Aires |390  |\n",
      "|AER       |POS           |Ciudad de Buenos Aires |Posadas                |389  |\n",
      "|FDO       |FDO           |San Fernando           |San Fernando           |387  |\n",
      "|EZE       |BAR           |Capital Federal        |San Carlos de Bariloche|374  |\n",
      "|AER       |ROS           |Ciudad de Buenos Aires |Rosario                |345  |\n",
      "+----------+--------------+-----------------------+-----------------------+-----+\n",
      "only showing top 30 rows\n",
      "\n"
     ]
    },
    {
     "name": "stderr",
     "output_type": "stream",
     "text": [
      "                                                                                "
     ]
    }
   ],
   "source": [
    "(origen_destino.filter(origen_destino.pasajeros != 0)\n",
    "               .groupBy('aeropuerto', \n",
    "                        'origen_destino', \n",
    "                        'ciudad_salida', \n",
    "                        'ciudad_llegada')\n",
    "               .count()\n",
    "               .orderBy('count', ascending=False).show(10, truncate=False))\n",
    "        "
   ]
  },
  {
   "cell_type": "code",
   "execution_count": 89,
   "id": "22f0fb59-f2a9-4e1c-aa46-a70d9fe80e94",
   "metadata": {},
   "outputs": [
    {
     "name": "stdout",
     "output_type": "stream",
     "text": [
      "+-----+----+----+---------+------------+--------------------+------------+------------+----+--------+-----+-------------+-------------+---------+-------+------+----+----+--------+---+------------+------------+-----+\n",
      "|local|oaci|iata|     tipo|denominacion|         coordenadas|     latitud|    longitud|elev|uom_elev|  ref|distancia_ref|direccion_ref|condicion|control|region| fir| uso| trafico|sna|concesionado|   provincia|inhab|\n",
      "+-----+----+----+---------+------------+--------------------+------------+------------+----+--------+-----+-------------+-------------+---------+-------+------+----+----+--------+---+------------+------------+-----+\n",
      "|  MOR|SADM|null|Aeródromo|       MORÓN|\"34°40'45\"\"S  58°...|-58.64361111|-34.67916667|29.0|  Metros|Morón|          3.0|           SO|  PUBLICO|CONTROL|  RACE|SAEF|null|Nacional| NO|          NO|BUENOS AIRES|   NO|\n",
      "+-----+----+----+---------+------------+--------------------+------------+------------+----+--------+-----+-------------+-------------+---------+-------+------+----+----+--------+---+------------+------------+-----+\n",
      "\n"
     ]
    }
   ],
   "source": [
    "aeropuertos_detalle.filter(aeropuertos_detalle.local == 'MOR').select('*').show()"
   ]
  },
  {
   "cell_type": "code",
   "execution_count": 90,
   "id": "67ec9c5b-68bf-40ac-bfca-1279a81006e7",
   "metadata": {},
   "outputs": [
    {
     "name": "stdout",
     "output_type": "stream",
     "text": [
      "+----------+-------+--------------------+----------------------+------------------+----------+--------------+----------------+----------------+---------+------------+\n",
      "|     fecha|horaUTC|      clase_de_vuelo|clasificacion_de_vuelo|tipo_de_movimiento|aeropuerto|origen_destino|aerolinea_nombre|        aeronave|pasajeros|calidad_dato|\n",
      "+----------+-------+--------------------+----------------------+------------------+----------+--------------+----------------+----------------+---------+------------+\n",
      "|2022-01-01|  23:44|Vuelo Privado con...|             Doméstico|          Despegue|       FDO|           FDO|               0|     EMB-EMB-500|        0|  DEFINITIVO|\n",
      "|2022-01-02|  09:05|Vuelo Privado con...|             Doméstico|          Despegue|       IGU|           IGU|               0|    AIR-AT-502-B|        0|  DEFINITIVO|\n",
      "|2022-01-02|  09:47|          No Regular|             Doméstico|        Aterrizaje|       IGU|           IGU|               0|    AIR-AT-502-B|        0|  DEFINITIVO|\n",
      "|2022-01-02|  10:34|Vuelo Privado con...|             Doméstico|          Despegue|       IGU|           IGU|               0|    AIR-AT-502-B|        0|  DEFINITIVO|\n",
      "|2022-01-02|  10:40|Vuelo Privado con...|             Doméstico|        Aterrizaje|       IGU|           IGU|               0|    AIR-AT-502-B|        0|  DEFINITIVO|\n",
      "|2022-01-02|  10:43|Vuelo Privado con...|             Doméstico|          Despegue|       IGU|           IGU|               0|    AIR-AT-502-B|        0|  DEFINITIVO|\n",
      "|2022-01-02|  11:21|Vuelo Privado con...|             Doméstico|        Aterrizaje|       IGU|           IGU|               0|    AIR-AT-502-B|        0|  DEFINITIVO|\n",
      "|2022-01-02|  11:26|       Vuelo Escuela|             Doméstico|        Aterrizaje|       MOR|           MOR|               0|        CE-150-M|        0|  DEFINITIVO|\n",
      "|2022-01-02|  11:28|       Vuelo Escuela|             Doméstico|          Despegue|       MOR|           MOR|               0|        CE-150-J|        0|  DEFINITIVO|\n",
      "|2022-01-02|  11:32|Vuelo Privado con...|             Doméstico|          Despegue|       IGU|           IGU|               0|    AIR-AT-502-B|        0|  DEFINITIVO|\n",
      "|2022-01-02|  11:32|       Vuelo Escuela|             Doméstico|          Despegue|       MOR|           MOR|               0|        CE-150-M|        0|  DEFINITIVO|\n",
      "|2022-01-02|  11:35|       Vuelo Escuela|             Doméstico|          Despegue|       MOR|           MOR|               0|        CE-150-L|        0|  DEFINITIVO|\n",
      "|2022-01-02|  11:40|       Vuelo Escuela|             Doméstico|          Despegue|       MOR|           MOR|               0|        CE-150-K|        0|  DEFINITIVO|\n",
      "|2022-01-02|  11:40|       Vuelo Escuela|             Doméstico|          Despegue|       MOR|           MOR|               0|        CE-150-J|        0|  DEFINITIVO|\n",
      "|2022-01-02|  11:51|       Vuelo Escuela|             Doméstico|          Despegue|       MOR|           MOR|               0|  TEA-P92 EAGLET|        0|  DEFINITIVO|\n",
      "|2022-01-02|  11:55|       Vuelo Escuela|             Doméstico|          Despegue|       MOR|           MOR|               0|          CE-152|        0|  DEFINITIVO|\n",
      "|2022-01-02|  12:00|       Vuelo Escuela|             Doméstico|          Despegue|       MOR|           MOR|               0|        CE-150-K|        0|  DEFINITIVO|\n",
      "|2022-01-02|  12:09|       Vuelo Escuela|             Doméstico|          Despegue|       MOR|           MOR|               0|       CE-152-II|        0|  DEFINITIVO|\n",
      "|2022-01-02|  12:14|       Vuelo Escuela|             Doméstico|          Despegue|       SRA|           SRA|               0|TEA-P2002 SIERRA|        0|  DEFINITIVO|\n",
      "|2022-01-02|  12:19|       Vuelo Escuela|             Doméstico|          Despegue|       MOR|           MOR|               0|        CE-C-152|        0|  DEFINITIVO|\n",
      "+----------+-------+--------------------+----------------------+------------------+----------+--------------+----------------+----------------+---------+------------+\n",
      "only showing top 20 rows\n",
      "\n"
     ]
    }
   ],
   "source": [
    "vuelos.filter(vuelos.aeropuerto == vuelos.origen_destino).show()"
   ]
  },
  {
   "cell_type": "markdown",
   "id": "e4d2cd09-e89c-44e5-8a40-0cfd28c14170",
   "metadata": {},
   "source": [
    "# Problema 12\n",
    "El proyecto es interesante porque estudia cuáles aeronaves son las que más volaron, cuántos pasajeros volaron, ciudades de partidas y aterrizajes entre fechas determinadas entre otras cuestiones."
   ]
  },
  {
   "cell_type": "code",
   "execution_count": 29,
   "id": "10765478-1849-451b-96d6-601bbbfb05b5",
   "metadata": {},
   "outputs": [
    {
     "name": "stdout",
     "output_type": "stream",
     "text": [
      "+--------------+\n",
      "|sum(pasajeros)|\n",
      "+--------------+\n",
      "|      15780468|\n",
      "+--------------+\n",
      "\n"
     ]
    },
    {
     "name": "stderr",
     "output_type": "stream",
     "text": [
      "                                                                                "
     ]
    }
   ],
   "source": [
    "vuelos.select(F.sum(vuelos.pasajeros)).show()"
   ]
  },
  {
   "cell_type": "code",
   "execution_count": null,
   "id": "585f95b8-d946-41ee-b9f0-5c8d4b5f42b5",
   "metadata": {},
   "outputs": [],
   "source": []
  }
 ],
 "metadata": {
  "kernelspec": {
   "display_name": "Python 3 (ipykernel)",
   "language": "python",
   "name": "python3"
  },
  "language_info": {
   "codemirror_mode": {
    "name": "ipython",
    "version": 3
   },
   "file_extension": ".py",
   "mimetype": "text/x-python",
   "name": "python",
   "nbconvert_exporter": "python",
   "pygments_lexer": "ipython3",
   "version": "3.8.10"
  }
 },
 "nbformat": 4,
 "nbformat_minor": 5
}
