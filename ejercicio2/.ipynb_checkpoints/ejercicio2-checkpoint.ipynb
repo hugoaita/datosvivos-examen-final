{
 "cells": [
  {
   "cell_type": "code",
   "execution_count": 1,
   "id": "e04df5f4-e7dc-420a-83ec-397de8d4b6d0",
   "metadata": {},
   "outputs": [],
   "source": [
    "from pyspark.sql import SparkSession\n",
    "from pyspark.sql.types import StructType, StructField, IntegerType, StringType, FloatType, DateType\n",
    "from pyspark.sql import functions as F\n",
    "from pyspark.sql.functions import mean\n",
    "from pyspark.sql.functions import to_timestamp\n",
    "import datetime\n",
    "\n",
    "spark = (SparkSession.builder\n",
    "        .appName(\"MySparkApp\")\n",
    "        .enableHiveSupport()\n",
    "        .getOrCreate())"
   ]
  },
  {
   "cell_type": "code",
   "execution_count": 10,
   "id": "f7669c82-9841-4bff-b0e0-ae561f236a63",
   "metadata": {},
   "outputs": [],
   "source": [
    "CarRentalData = (spark.read.option('header', 'true')\n",
    "                      .csv('hdfs://172.17.0.2:9000/ingest/automobiles/CarRentalData.csv'))\n",
    "georef_usa_state = (spark.read.option('header', 'true')\n",
    "                         .option('delimiter', ';')\n",
    "                         .csv('hdfs://172.17.0.2:9000/ingest/automobiles/georef-united-states-of-america.csv'))"
   ]
  },
  {
   "cell_type": "code",
   "execution_count": 13,
   "id": "e41d3a00-0926-4d94-bf9f-3a87c398e418",
   "metadata": {},
   "outputs": [],
   "source": [
    "# Problema 3"
   ]
  },
  {
   "cell_type": "code",
   "execution_count": 14,
   "id": "2599ff34-4e03-464d-9b45-78306fce509a",
   "metadata": {},
   "outputs": [
    {
     "data": {
      "text/plain": [
       "['fuelType',\n",
       " 'rating',\n",
       " 'renterTripsTaken',\n",
       " 'reviewCount',\n",
       " 'location.city',\n",
       " 'location.country',\n",
       " 'location.latitude',\n",
       " 'location.longitude',\n",
       " 'location.state',\n",
       " 'owner.id',\n",
       " 'rate.daily',\n",
       " 'vehicle.make',\n",
       " 'vehicle.model',\n",
       " 'vehicle.type',\n",
       " 'vehicle.year']"
      ]
     },
     "execution_count": 14,
     "metadata": {},
     "output_type": "execute_result"
    }
   ],
   "source": [
    "CarRentalData.columns"
   ]
  },
  {
   "cell_type": "code",
   "execution_count": 15,
   "id": "52f22fae-e72f-406f-a23f-6e1384258966",
   "metadata": {},
   "outputs": [],
   "source": [
    "CarRentalData = (CarRentalData.withColumnRenamed('location.city', 'city')\n",
    "                              .withColumnRenamed('location.country', 'country')\n",
    "                              .withColumnRenamed('location.latitude', 'latitude')\n",
    "                              .withColumnRenamed('location.longitude', 'longitude')\n",
    "                              .withColumnRenamed('location.state', 'state')\n",
    "                              .withColumnRenamed('owner.id', 'owner_id')\n",
    "                              .withColumnRenamed('rate.daily', 'rate_daily')\n",
    "                              .withColumnRenamed('vehicle.make', 'vehicle_make')\n",
    "                              .withColumnRenamed('vehicle.model', 'vehicle_model')\n",
    "                              .withColumnRenamed('vehicle.type', 'vehicle_type')\n",
    "                              .withColumnRenamed('vehicle.year', 'vehicle_year'))\n",
    "                "
   ]
  },
  {
   "cell_type": "code",
   "execution_count": 45,
   "id": "f8c34615-a05e-49c6-afe6-a8bb5b72ef62",
   "metadata": {
    "scrolled": true
   },
   "outputs": [
    {
     "data": {
      "text/plain": [
       "['Geo Point',\n",
       " 'Geo Shape',\n",
       " 'Year',\n",
       " 'Official Code State',\n",
       " 'Official Name State',\n",
       " 'Iso 3166-3 Area Code',\n",
       " 'Type',\n",
       " 'United States Postal Service state abbreviation',\n",
       " 'State FIPS Code',\n",
       " 'State GNIS Code']"
      ]
     },
     "execution_count": 45,
     "metadata": {},
     "output_type": "execute_result"
    }
   ],
   "source": [
    "CarRentalData.columns\n"
   ]
  },
  {
   "cell_type": "markdown",
   "id": "d8700514-7f00-402a-ad61-37062d63f7a1",
   "metadata": {},
   "source": [
    "Vemos que las columnas **rating**"
   ]
  },
  {
   "cell_type": "code",
   "execution_count": 30,
   "id": "a30f6c4e-7017-46ef-87bd-90281c7e8bc0",
   "metadata": {},
   "outputs": [],
   "source": [
    "CarRentalData = CarRentalData.withColumn(\"rating\", F.round(F.col(\"rating\")).cast(IntegerType()))\n",
    "CarRentalData = (CarRentalData.withColumn('renterTripsTaken', F.col('renterTripsTaken').cast(IntegerType()))\n",
    "                              .withColumn('reviewCount', F.col('reviewCount').cast(IntegerType()))\n",
    "                              .withColumn('latitude', F.col('latitude').cast(FloatType()))\n",
    "                              .withColumn('longitude', F.col('longitude').cast(FloatType()))\n",
    "                              .withColumn('owner_id', F.col('owner_id').cast(IntegerType()))\n",
    "                              .withColumn('rate_daily', F.col('rate_daily').cast(IntegerType()))\n",
    "                              .withColumn('vehicle_year', F.col('vehicle_year').cast(IntegerType())))"
   ]
  },
  {
   "cell_type": "code",
   "execution_count": 46,
   "id": "fcc4f341-cd0f-43e7-9938-8f098546510a",
   "metadata": {},
   "outputs": [
    {
     "data": {
      "text/plain": [
       "['Geo Point',\n",
       " 'Geo Shape',\n",
       " 'Year',\n",
       " 'Official Code State',\n",
       " 'Official Name State',\n",
       " 'Iso 3166-3 Area Code',\n",
       " 'Type',\n",
       " 'United States Postal Service state abbreviation',\n",
       " 'State FIPS Code',\n",
       " 'State GNIS Code']"
      ]
     },
     "execution_count": 46,
     "metadata": {},
     "output_type": "execute_result"
    }
   ],
   "source": [
    "georef_usa_state.columns"
   ]
  },
  {
   "cell_type": "code",
   "execution_count": 65,
   "id": "90ba30cf-8c0d-421c-9f3f-5a75aa66dd1e",
   "metadata": {},
   "outputs": [],
   "source": [
    "georef_usa_state = (georef_usa_state.withColumnRenamed('Geo Point', 'geo_point')\n",
    "                                    .withColumnRenamed('Geo Shape', 'geo_shape')\n",
    "                                    .withColumnRenamed('Official Code State', 'OCS')\n",
    "                                    .withColumnRenamed('Official Name State', 'ONS')\n",
    "                                    .withColumnRenamed('Iso 3166-3 Area Code', 'iso_3166_3_ac')\n",
    "                                    .withColumnRenamed('Type', 'type')\n",
    "                                    .withColumnRenamed('United States Postal Service state abbreviation', 'PSsa')\n",
    "                                    .withColumnRenamed('State FIPS Code', 'FIPS')\n",
    "                                    .withColumnRenamed('State GNIS Code', 'GNIS'))\n",
    "georef_usa_state = (georef_usa_state.withColumn('Year', F.col('Year').cast(IntegerType()))\n",
    "                                    .withColumn('OCS', F.col('OCS').cast(IntegerType())))"
   ]
  },
  {
   "cell_type": "code",
   "execution_count": 51,
   "id": "63f206e3-0297-4ef9-b295-788f3039e808",
   "metadata": {},
   "outputs": [
    {
     "data": {
      "text/plain": [
       "['geo_point',\n",
       " 'geo_shape',\n",
       " 'Year',\n",
       " 'OCS',\n",
       " 'ONS',\n",
       " 'iso_3166_3_ac',\n",
       " 'type',\n",
       " 'PSsa',\n",
       " 'FIPS',\n",
       " 'GNIS']"
      ]
     },
     "execution_count": 51,
     "metadata": {},
     "output_type": "execute_result"
    }
   ],
   "source": [
    "georef_usa_state.columns"
   ]
  },
  {
   "cell_type": "code",
   "execution_count": 63,
   "id": "cfd35ab1-950e-4988-b710-97bd18304f56",
   "metadata": {},
   "outputs": [
    {
     "name": "stdout",
     "output_type": "stream",
     "text": [
      "+----+\n",
      "|FIPS|\n",
      "+----+\n",
      "|null|\n",
      "|null|\n",
      "|null|\n",
      "|null|\n",
      "|null|\n",
      "+----+\n",
      "only showing top 5 rows\n",
      "\n"
     ]
    }
   ],
   "source": [
    "# OCS\n",
    "georef_usa_state.select('FIPS').show(5)"
   ]
  },
  {
   "cell_type": "code",
   "execution_count": 43,
   "id": "e4151565-2a02-4758-9c0c-d36453308b90",
   "metadata": {},
   "outputs": [
    {
     "name": "stdout",
     "output_type": "stream",
     "text": [
      "+--------------------+--------------------+----+-------------------+-------------------+--------------------+-------------+-----------------------------------------------+---------------+---------------+\n",
      "|           Geo Point|           Geo Shape|Year|Official Code State|Official Name State|Iso 3166-3 Area Code|         Type|United States Postal Service state abbreviation|State FIPS Code|State GNIS Code|\n",
      "+--------------------+--------------------+----+-------------------+-------------------+--------------------+-------------+-----------------------------------------------+---------------+---------------+\n",
      "|31.44720010145345...|\"{\"\"coordinates\"\"...|2022|                 48|              Texas|                 USA|        state|                                             TX|           null|       01779801|\n",
      "|38.64257169984573...|\"{\"\"coordinates\"\"...|2022|                 54|      West Virginia|                 USA|        state|                                             WV|           null|       01779805|\n",
      "|18.21570685501268...|\"{\"\"coordinates\"\"...|2022|                 72|        Puerto Rico|                 PRI|outlying area|                                             PR|           null|       01779808|\n",
      "|40.10998794109383...|\"{\"\"coordinates\"\"...|2022|                 34|         New Jersey|                 USA|        state|                                             NJ|           null|       01779795|\n",
      "|20.99509455589766...|\"{\"\"coordinates\"\"...|2022|                 15|             Hawaii|                 USA|        state|                                             HI|           null|       01779782|\n",
      "|47.44632675873321...|\"{\"\"coordinates\"\"...|2022|                 38|       North Dakota|                 USA|        state|                                             ND|           null|       01779797|\n",
      "|41.52714906967877...|\"{\"\"coordinates\"\"...|2022|                 31|           Nebraska|                 USA|        state|                                             NE|           null|       01779792|\n",
      "|43.94045164522838...|\"{\"\"coordinates\"\"...|2022|                 41|             Oregon|                 USA|        state|                                             OR|           null|       01155107|\n",
      "|34.89991914658269...|\"{\"\"coordinates\"\"...|2022|                 05|           Arkansas|                 USA|        state|                                             AR|           null|       00068085|\n",
      "|44.6399326373389,...|\"{\"\"coordinates\"\"...|2022|                 55|          Wisconsin|                 USA|        state|                                             WI|           null|       01779806|\n",
      "+--------------------+--------------------+----+-------------------+-------------------+--------------------+-------------+-----------------------------------------------+---------------+---------------+\n",
      "only showing top 10 rows\n",
      "\n"
     ]
    }
   ],
   "source": [
    "georef_usa_state.select('*').show(10)"
   ]
  },
  {
   "cell_type": "code",
   "execution_count": null,
   "id": "8bd1eeeb-5d88-46b9-aa3a-1cade629036b",
   "metadata": {},
   "outputs": [],
   "source": []
  }
 ],
 "metadata": {
  "kernelspec": {
   "display_name": "Python 3 (ipykernel)",
   "language": "python",
   "name": "python3"
  },
  "language_info": {
   "codemirror_mode": {
    "name": "ipython",
    "version": 3
   },
   "file_extension": ".py",
   "mimetype": "text/x-python",
   "name": "python",
   "nbconvert_exporter": "python",
   "pygments_lexer": "ipython3",
   "version": "3.8.10"
  }
 },
 "nbformat": 4,
 "nbformat_minor": 5
}
