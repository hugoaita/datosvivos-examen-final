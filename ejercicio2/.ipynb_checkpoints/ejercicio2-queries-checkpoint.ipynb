{
 "cells": [
  {
   "cell_type": "code",
   "execution_count": 57,
   "id": "cddc9d77-8ed2-4995-b83c-df16d3c2888c",
   "metadata": {},
   "outputs": [],
   "source": [
    "from pyspark.sql import SparkSession\n",
    "from pyspark.sql.types import StructType, StructField, IntegerType, StringType, FloatType, DateType\n",
    "from pyspark.sql import functions as F\n",
    "from pyspark.sql.functions import mean\n",
    "from pyspark.sql.functions import to_timestamp\n",
    "import datetime\n",
    "\n",
    "spark = (SparkSession.builder\n",
    "        .appName(\"MySparkApp\")\n",
    "        .enableHiveSupport()\n",
    "        .getOrCreate())"
   ]
  },
  {
   "cell_type": "code",
   "execution_count": 58,
   "id": "02a07a4a-e159-495a-948b-f97a635a0c62",
   "metadata": {},
   "outputs": [],
   "source": [
    "crd = (spark.read.option('header', 'true')\n",
    "            .csv('hdfs://172.17.0.2:9000/ingest/automobiles/CarRentalData.csv'))\n",
    "grf_usa = (spark.read.option('header', 'true')\n",
    "                     .option('delimiter', ';')\n",
    "                     .csv('hdfs://172.17.0.2:9000/ingest/automobiles/georef-united-states-of-america.csv'))"
   ]
  },
  {
   "cell_type": "code",
   "execution_count": 48,
   "id": "31a6a269-4be0-4867-a835-854637433023",
   "metadata": {},
   "outputs": [
    {
     "data": {
      "text/plain": [
       "['fuelType',\n",
       " 'rating',\n",
       " 'renterTripsTaken',\n",
       " 'reviewCount',\n",
       " 'city',\n",
       " 'country',\n",
       " 'latitude',\n",
       " 'longitude',\n",
       " 'state',\n",
       " 'owner_id',\n",
       " 'rate_daily',\n",
       " 'make',\n",
       " 'model',\n",
       " 'type',\n",
       " 'year']"
      ]
     },
     "execution_count": 48,
     "metadata": {},
     "output_type": "execute_result"
    }
   ],
   "source": [
    "crd.columns"
   ]
  },
  {
   "cell_type": "code",
   "execution_count": 66,
   "id": "3644afa8-519a-4ce2-8ff8-7512a8144ea4",
   "metadata": {},
   "outputs": [],
   "source": [
    "# Rename Car Rental Data column names\n",
    "\n",
    "crd = (crd.withColumnRenamed('location.city', 'city')\n",
    "          .withColumnRenamed('location.country', 'country')\n",
    "          .withColumnRenamed('location.latitude', 'latitude')\n",
    "          .withColumnRenamed('location.longitude', 'longitude')\n",
    "          .withColumnRenamed('location.state', 'state')\n",
    "          .withColumnRenamed('owner.id', 'owner_id')\n",
    "          .withColumnRenamed('rate.daily', 'rate_daily')\n",
    "          .withColumnRenamed('vehicle.make', 'make')\n",
    "          .withColumnRenamed('vehicle.model', 'model')\n",
    "          .withColumnRenamed('vehicle.type', 'type')\n",
    "          .withColumnRenamed('vehicle.year', 'year'))\n",
    "                "
   ]
  },
  {
   "cell_type": "code",
   "execution_count": 67,
   "id": "9b4cc0a7-9b17-4aba-9136-be1a05e01aea",
   "metadata": {},
   "outputs": [],
   "source": [
    "# Cast Car Rental Data columns\n",
    "crd = (crd.withColumn('renterTripsTaken', F.col('renterTripsTaken').cast(IntegerType()))\n",
    "          .withColumn('reviewCount', F.col('reviewCount').cast(IntegerType()))\n",
    "          .withColumn('owner_id', F.col('owner_id').cast(IntegerType()))\n",
    "          .withColumn('rate_daily', F.col('rate_daily').cast(IntegerType()))\n",
    "          .withColumn('year', F.col('year').cast(IntegerType())))"
   ]
  },
  {
   "cell_type": "code",
   "execution_count": 68,
   "id": "ec1ae3fe-67d0-4508-94a1-815e8ff223d3",
   "metadata": {},
   "outputs": [],
   "source": [
    "grf_usa = (grf_usa.withColumnRenamed('Geo Point', 'geo_point')\n",
    "                  .withColumnRenamed('Geo Shape', 'geo_shape')\n",
    "                  .withColumnRenamed('Official Code State', 'OCS')\n",
    "                  .withColumnRenamed('Official Name State', 'ONS')\n",
    "                  .withColumnRenamed('Iso 3166-3 Area Code', 'iso_3166_3_ac')\n",
    "                  .withColumnRenamed('Type', 'type')\n",
    "                  .withColumnRenamed('United States Postal Service state abbreviation', 'state')\n",
    "                  .withColumnRenamed('State FIPS Code', 'FIPS')\n",
    "                  .withColumnRenamed('State GNIS Code', 'GNIS')\n",
    "                  .withColumnRenamed('Year', 'year'))\n",
    "grf = (grf_usa.withColumn('year', F.col('year').cast(IntegerType()))\n",
    "              .withColumn('OCS', F.col('OCS').cast(IntegerType())))"
   ]
  },
  {
   "cell_type": "code",
   "execution_count": 69,
   "id": "aa66664b-39c9-4dfb-b244-5ea0100e2ba3",
   "metadata": {},
   "outputs": [],
   "source": [
    "df = crd.join(grf_usa, on='state') \n",
    "df = df.na.drop(subset=['rating'])\n",
    "df = df.withColumn('fuelType', F.lower('fuelType'))\n",
    "df = df.filter(df.state != 'TX')"
   ]
  },
  {
   "cell_type": "code",
   "execution_count": 63,
   "id": "9fd63d1c-f268-4fe3-823f-52630bec8eb1",
   "metadata": {},
   "outputs": [
    {
     "name": "stdout",
     "output_type": "stream",
     "text": [
      "root\n",
      " |-- fuelType: string (nullable = true)\n",
      " |-- rating: string (nullable = true)\n",
      " |-- renterTripsTaken: integer (nullable = true)\n",
      " |-- reviewCount: integer (nullable = true)\n",
      " |-- city: string (nullable = true)\n",
      " |-- country: string (nullable = true)\n",
      " |-- latitude: string (nullable = true)\n",
      " |-- longitude: string (nullable = true)\n",
      " |-- state: string (nullable = true)\n",
      " |-- owner_id: integer (nullable = true)\n",
      " |-- rate_daily: integer (nullable = true)\n",
      " |-- make: string (nullable = true)\n",
      " |-- model: string (nullable = true)\n",
      " |-- type: string (nullable = true)\n",
      " |-- year: integer (nullable = true)\n",
      "\n"
     ]
    }
   ],
   "source": [
    "crd.printSchema()"
   ]
  },
  {
   "cell_type": "markdown",
   "id": "fd3b72be-fa24-45dc-8f5f-350509262fce",
   "metadata": {},
   "source": [
    "# Problema 5\n",
    "Por medio de consultas SQL al data-warehouse, mostrar"
   ]
  },
  {
   "cell_type": "markdown",
   "id": "ee822e21-acde-41cd-a487-9aebfeef56c1",
   "metadata": {},
   "source": [
    "a. Cantidad de alquileres de autos, teniendo en cuenta sólo los vehículos\n",
    "ecológicos (fuelType hibrido o eléctrico) y con un rating de al menos 4."
   ]
  },
  {
   "cell_type": "code",
   "execution_count": 44,
   "id": "09260150-90ab-4316-bb46-3cf5a4d1d0f0",
   "metadata": {},
   "outputs": [
    {
     "name": "stdout",
     "output_type": "stream",
     "text": [
      "Cantidad de alquileres de autos ecológicos con rating >= 4 770\n"
     ]
    }
   ],
   "source": [
    "ecologic = ['electric', 'hybrid']\n",
    "rent_ecologic = df.filter((F.col('fuelType').isin(ecologic)) & (df.rating >= 4))\n",
    "print (\"Cantidad de alquileres de autos ecológicos con rating >= 4\", rent_ecologic.count())\n"
   ]
  },
  {
   "cell_type": "markdown",
   "id": "9a533aa1-a29c-446c-b956-1eccf48b9dff",
   "metadata": {},
   "source": [
    "b. Los 5 estados con menor cantidad de alquileres (mostrar query y visualización)."
   ]
  },
  {
   "cell_type": "code",
   "execution_count": 21,
   "id": "fc4695bd-3c5e-4cb2-aa15-4aac64d5b9fc",
   "metadata": {},
   "outputs": [
    {
     "name": "stdout",
     "output_type": "stream",
     "text": [
      "+-----+-----+\n",
      "|state|count|\n",
      "+-----+-----+\n",
      "|   MT|    1|\n",
      "|   WV|    3|\n",
      "|   NH|    3|\n",
      "|   DE|    4|\n",
      "|   AR|    4|\n",
      "|   MS|    4|\n",
      "|   IA|   11|\n",
      "|   DC|   11|\n",
      "|   ME|   11|\n",
      "|   NE|   14|\n",
      "+-----+-----+\n",
      "only showing top 10 rows\n",
      "\n"
     ]
    }
   ],
   "source": [
    "df.groupBy('state').count().orderBy('count').show(10)"
   ]
  },
  {
   "cell_type": "markdown",
   "id": "e512f063-d686-4bf2-8623-dfb50e6dbace",
   "metadata": {},
   "source": [
    "c. Los 10 modelos (junto con su marca) de autos más rentados (mostrar query y\n",
    "visualización)."
   ]
  },
  {
   "cell_type": "code",
   "execution_count": 32,
   "id": "37eab336-8792-461e-8887-5d69bccdb3c2",
   "metadata": {},
   "outputs": [
    {
     "name": "stdout",
     "output_type": "stream",
     "text": [
      "+--------+-------------+-----+\n",
      "|   model|         make|count|\n",
      "+--------+-------------+-----+\n",
      "| Model 3|        Tesla|  288|\n",
      "| Mustang|         Ford|  136|\n",
      "| Model S|        Tesla|  122|\n",
      "|Wrangler|         Jeep|  108|\n",
      "| Model X|        Tesla|  103|\n",
      "| C-Class|Mercedes-Benz|   78|\n",
      "| Corolla|       Toyota|   78|\n",
      "|3 Series|          BMW|   76|\n",
      "|Corvette|    Chevrolet|   68|\n",
      "|  Camaro|    Chevrolet|   61|\n",
      "+--------+-------------+-----+\n",
      "only showing top 10 rows\n",
      "\n"
     ]
    }
   ],
   "source": [
    "df.groupBy('model', 'make').count().orderBy('count', ascending=False).show(10)"
   ]
  },
  {
   "cell_type": "markdown",
   "id": "91d22c2b-c160-480b-aa60-45bd72c26ebc",
   "metadata": {},
   "source": [
    "d. Mostrar por año, cuántos alquileres se hicieron, teniendo en cuenta automóviles\n",
    "fabricados desde 2010 a 2015."
   ]
  },
  {
   "cell_type": "code",
   "execution_count": 36,
   "id": "826c7f30-6b7d-4c44-939b-889a5959e4de",
   "metadata": {},
   "outputs": [
    {
     "name": "stdout",
     "output_type": "stream",
     "text": [
      "+----+-----+\n",
      "|year|count|\n",
      "+----+-----+\n",
      "|2010|  166|\n",
      "|2011|  238|\n",
      "|2012|  291|\n",
      "|2013|  371|\n",
      "|2014|  453|\n",
      "|2015|  627|\n",
      "+----+-----+\n",
      "\n"
     ]
    }
   ],
   "source": [
    "rent_year = (crd.filter((crd.year >= '2010') & (crd.year <= '2015'))\n",
    "               .groupBy('year')\n",
    "               .count()\n",
    "               .orderBy('year'))\n",
    "rent_year.show()"
   ]
  },
  {
   "cell_type": "markdown",
   "id": "8e2180bb-e850-4faa-95db-b400a0aa4fa2",
   "metadata": {},
   "source": [
    "e. las 5 ciudades con más alquileres de vehículos ecológicos (fuelType hibrido o\n",
    "electrico)"
   ]
  },
  {
   "cell_type": "code",
   "execution_count": 47,
   "id": "93c2556c-4fc0-412f-aa0f-94b64e64d894",
   "metadata": {},
   "outputs": [
    {
     "name": "stdout",
     "output_type": "stream",
     "text": [
      "+---------+-----+\n",
      "|     city|count|\n",
      "+---------+-----+\n",
      "|San Diego|   44|\n",
      "|Las Vegas|   34|\n",
      "| Portland|   20|\n",
      "|  Phoenix|   17|\n",
      "| San Jose|   15|\n",
      "+---------+-----+\n",
      "only showing top 5 rows\n",
      "\n"
     ]
    }
   ],
   "source": [
    "ecologic = ['hybrid', 'electric']\n",
    "(df.filter((F.col('fuelType').isin(ecologic)))\n",
    "          .groupBy('city')\n",
    "          .count()\n",
    "          .orderBy('count', ascending=False)).show(5)"
   ]
  },
  {
   "cell_type": "markdown",
   "id": "4d6fa118-08ee-4a9c-9079-fd2f5d220199",
   "metadata": {},
   "source": [
    "f. El promedio de reviews, segmentando por tipo de combustible."
   ]
  },
  {
   "cell_type": "code",
   "execution_count": 64,
   "id": "5f03a368-d2ee-4d3b-83fc-1b4fa3fe8cde",
   "metadata": {},
   "outputs": [
    {
     "ename": "AnalysisException",
     "evalue": "\"reviewCount\" is not a numeric column. Aggregation function can only be applied on a numeric column.",
     "output_type": "error",
     "traceback": [
      "\u001b[0;31m---------------------------------------------------------------------------\u001b[0m",
      "\u001b[0;31mAnalysisException\u001b[0m                         Traceback (most recent call last)",
      "Cell \u001b[0;32mIn[64], line 1\u001b[0m\n\u001b[0;32m----> 1\u001b[0m mean_reviews \u001b[38;5;241m=\u001b[39m \u001b[43mdf\u001b[49m\u001b[38;5;241;43m.\u001b[39;49m\u001b[43mgroupBy\u001b[49m\u001b[43m(\u001b[49m\u001b[38;5;124;43m'\u001b[39;49m\u001b[38;5;124;43mfuelType\u001b[39;49m\u001b[38;5;124;43m'\u001b[39;49m\u001b[43m)\u001b[49m\u001b[38;5;241;43m.\u001b[39;49m\u001b[43mavg\u001b[49m\u001b[43m(\u001b[49m\u001b[38;5;124;43m'\u001b[39;49m\u001b[38;5;124;43mreviewCount\u001b[39;49m\u001b[38;5;124;43m'\u001b[39;49m\u001b[43m)\u001b[49m\n",
      "File \u001b[0;32m~/spark/python/pyspark/sql/group.py:41\u001b[0m, in \u001b[0;36mdf_varargs_api.<locals>._api\u001b[0;34m(self, *cols)\u001b[0m\n\u001b[1;32m     39\u001b[0m \u001b[38;5;28;01mdef\u001b[39;00m \u001b[38;5;21m_api\u001b[39m(\u001b[38;5;28mself\u001b[39m, \u001b[38;5;241m*\u001b[39mcols):\n\u001b[1;32m     40\u001b[0m     name \u001b[38;5;241m=\u001b[39m f\u001b[38;5;241m.\u001b[39m\u001b[38;5;18m__name__\u001b[39m\n\u001b[0;32m---> 41\u001b[0m     jdf \u001b[38;5;241m=\u001b[39m \u001b[38;5;28;43mgetattr\u001b[39;49m\u001b[43m(\u001b[49m\u001b[38;5;28;43mself\u001b[39;49m\u001b[38;5;241;43m.\u001b[39;49m\u001b[43m_jgd\u001b[49m\u001b[43m,\u001b[49m\u001b[43m \u001b[49m\u001b[43mname\u001b[49m\u001b[43m)\u001b[49m\u001b[43m(\u001b[49m\u001b[43m_to_seq\u001b[49m\u001b[43m(\u001b[49m\u001b[38;5;28;43mself\u001b[39;49m\u001b[38;5;241;43m.\u001b[39;49m\u001b[43msql_ctx\u001b[49m\u001b[38;5;241;43m.\u001b[39;49m\u001b[43m_sc\u001b[49m\u001b[43m,\u001b[49m\u001b[43m \u001b[49m\u001b[43mcols\u001b[49m\u001b[43m)\u001b[49m\u001b[43m)\u001b[49m\n\u001b[1;32m     42\u001b[0m     \u001b[38;5;28;01mreturn\u001b[39;00m DataFrame(jdf, \u001b[38;5;28mself\u001b[39m\u001b[38;5;241m.\u001b[39msql_ctx)\n",
      "File \u001b[0;32m~/spark/python/lib/py4j-0.10.9.2-src.zip/py4j/java_gateway.py:1309\u001b[0m, in \u001b[0;36mJavaMember.__call__\u001b[0;34m(self, *args)\u001b[0m\n\u001b[1;32m   1303\u001b[0m command \u001b[38;5;241m=\u001b[39m proto\u001b[38;5;241m.\u001b[39mCALL_COMMAND_NAME \u001b[38;5;241m+\u001b[39m\\\n\u001b[1;32m   1304\u001b[0m     \u001b[38;5;28mself\u001b[39m\u001b[38;5;241m.\u001b[39mcommand_header \u001b[38;5;241m+\u001b[39m\\\n\u001b[1;32m   1305\u001b[0m     args_command \u001b[38;5;241m+\u001b[39m\\\n\u001b[1;32m   1306\u001b[0m     proto\u001b[38;5;241m.\u001b[39mEND_COMMAND_PART\n\u001b[1;32m   1308\u001b[0m answer \u001b[38;5;241m=\u001b[39m \u001b[38;5;28mself\u001b[39m\u001b[38;5;241m.\u001b[39mgateway_client\u001b[38;5;241m.\u001b[39msend_command(command)\n\u001b[0;32m-> 1309\u001b[0m return_value \u001b[38;5;241m=\u001b[39m \u001b[43mget_return_value\u001b[49m\u001b[43m(\u001b[49m\n\u001b[1;32m   1310\u001b[0m \u001b[43m    \u001b[49m\u001b[43manswer\u001b[49m\u001b[43m,\u001b[49m\u001b[43m \u001b[49m\u001b[38;5;28;43mself\u001b[39;49m\u001b[38;5;241;43m.\u001b[39;49m\u001b[43mgateway_client\u001b[49m\u001b[43m,\u001b[49m\u001b[43m \u001b[49m\u001b[38;5;28;43mself\u001b[39;49m\u001b[38;5;241;43m.\u001b[39;49m\u001b[43mtarget_id\u001b[49m\u001b[43m,\u001b[49m\u001b[43m \u001b[49m\u001b[38;5;28;43mself\u001b[39;49m\u001b[38;5;241;43m.\u001b[39;49m\u001b[43mname\u001b[49m\u001b[43m)\u001b[49m\n\u001b[1;32m   1312\u001b[0m \u001b[38;5;28;01mfor\u001b[39;00m temp_arg \u001b[38;5;129;01min\u001b[39;00m temp_args:\n\u001b[1;32m   1313\u001b[0m     temp_arg\u001b[38;5;241m.\u001b[39m_detach()\n",
      "File \u001b[0;32m~/spark/python/pyspark/sql/utils.py:117\u001b[0m, in \u001b[0;36mcapture_sql_exception.<locals>.deco\u001b[0;34m(*a, **kw)\u001b[0m\n\u001b[1;32m    113\u001b[0m converted \u001b[38;5;241m=\u001b[39m convert_exception(e\u001b[38;5;241m.\u001b[39mjava_exception)\n\u001b[1;32m    114\u001b[0m \u001b[38;5;28;01mif\u001b[39;00m \u001b[38;5;129;01mnot\u001b[39;00m \u001b[38;5;28misinstance\u001b[39m(converted, UnknownException):\n\u001b[1;32m    115\u001b[0m     \u001b[38;5;66;03m# Hide where the exception came from that shows a non-Pythonic\u001b[39;00m\n\u001b[1;32m    116\u001b[0m     \u001b[38;5;66;03m# JVM exception message.\u001b[39;00m\n\u001b[0;32m--> 117\u001b[0m     \u001b[38;5;28;01mraise\u001b[39;00m converted \u001b[38;5;28;01mfrom\u001b[39;00m \u001b[38;5;28mNone\u001b[39m\n\u001b[1;32m    118\u001b[0m \u001b[38;5;28;01melse\u001b[39;00m:\n\u001b[1;32m    119\u001b[0m     \u001b[38;5;28;01mraise\u001b[39;00m\n",
      "\u001b[0;31mAnalysisException\u001b[0m: \"reviewCount\" is not a numeric column. Aggregation function can only be applied on a numeric column."
     ]
    }
   ],
   "source": [
    "mean_reviews = df.groupBy('fuelType').avg('reviewCount')\n"
   ]
  },
  {
   "cell_type": "code",
   "execution_count": 50,
   "id": "71927277-96cc-4ff0-961e-8effbbfecf89",
   "metadata": {},
   "outputs": [
    {
     "name": "stdout",
     "output_type": "stream",
     "text": [
      "+-----------+\n",
      "|reviewCount|\n",
      "+-----------+\n",
      "|         30|\n",
      "|         26|\n",
      "|          4|\n",
      "|         71|\n",
      "|         44|\n",
      "|         15|\n",
      "|          3|\n",
      "|          3|\n",
      "|         15|\n",
      "|          1|\n",
      "|         36|\n",
      "|         34|\n",
      "|         11|\n",
      "|         38|\n",
      "|          1|\n",
      "|         14|\n",
      "|          2|\n",
      "|          4|\n",
      "|         42|\n",
      "|          5|\n",
      "+-----------+\n",
      "only showing top 20 rows\n",
      "\n"
     ]
    }
   ],
   "source": [
    "df.select('reviewCount').show()"
   ]
  },
  {
   "cell_type": "code",
   "execution_count": null,
   "id": "7ec83f0b-42eb-4954-8d42-ebfed4775b42",
   "metadata": {},
   "outputs": [],
   "source": []
  }
 ],
 "metadata": {
  "kernelspec": {
   "display_name": "Python 3 (ipykernel)",
   "language": "python",
   "name": "python3"
  },
  "language_info": {
   "codemirror_mode": {
    "name": "ipython",
    "version": 3
   },
   "file_extension": ".py",
   "mimetype": "text/x-python",
   "name": "python",
   "nbconvert_exporter": "python",
   "pygments_lexer": "ipython3",
   "version": "3.8.10"
  }
 },
 "nbformat": 4,
 "nbformat_minor": 5
}
